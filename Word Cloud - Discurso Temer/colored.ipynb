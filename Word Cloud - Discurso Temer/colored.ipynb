{
  "nbformat_minor": 0,
  "cells": [
    {
      "cell_type": "code",
      "execution_count": null,
      "source": [
        "%matplotlib inline"
      ],
      "outputs": [],
      "metadata": {
        "collapsed": false
      }
    },
    {
      "cell_type": "markdown",
      "source": [
        "\nImage-colored wordcloud\n=======================\n\nYou can color a word-cloud by using an image-based coloring strategy\nimplemented in ImageColorGenerator. It uses the average color of the region\noccupied by the word in a source image. You can combine this with masking -\npure-white will be interpreted as 'don't occupy' by the WordCloud object when\npassed as mask.\nIf you want white as a legal color, you can just pass a different image to\n\"mask\", but make sure the image shapes line up.\n\n"
      ],
      "metadata": {}
    },
    {
      "cell_type": "code",
      "execution_count": null,
      "source": [
        "from os import path\nfrom PIL import Image\nimport numpy as np\nimport matplotlib.pyplot as plt\n\nfrom wordcloud import WordCloud, STOPWORDS, ImageColorGenerator\n\nd = path.dirname(__file__)\n\n# Read the whole text.\ntext = open(path.join(d, 'alice.txt')).read()\n\n# read the mask / color image taken from\n# http://jirkavinse.deviantart.com/art/quot-Real-Life-quot-Alice-282261010\nalice_coloring = np.array(Image.open(path.join(d, \"alice_color.png\")))\nstopwords = set(STOPWORDS)\nstopwords.add(\"said\")\n\nwc = WordCloud(background_color=\"white\", max_words=2000, mask=alice_coloring,\n               stopwords=stopwords, max_font_size=40, random_state=42)\n# generate word cloud\nwc.generate(text)\n\n# create coloring from image\nimage_colors = ImageColorGenerator(alice_coloring)\n\n# show\nplt.imshow(wc, interpolation=\"bilinear\")\nplt.axis(\"off\")\nplt.figure()\n# recolor wordcloud and show\n# we could also give color_func=image_colors directly in the constructor\nplt.imshow(wc.recolor(color_func=image_colors), interpolation=\"bilinear\")\nplt.axis(\"off\")\nplt.figure()\nplt.imshow(alice_coloring, cmap=plt.cm.gray, interpolation=\"bilinear\")\nplt.axis(\"off\")\nplt.show()"
      ],
      "outputs": [],
      "metadata": {
        "collapsed": false
      }
    }
  ],
  "nbformat": 4,
  "metadata": {
    "kernelspec": {
      "language": "python",
      "display_name": "Python 3",
      "name": "python3"
    },
    "language_info": {
      "version": "3.5.2",
      "codemirror_mode": {
        "version": 3,
        "name": "ipython"
      },
      "name": "python",
      "pygments_lexer": "ipython3",
      "nbconvert_exporter": "python",
      "mimetype": "text/x-python",
      "file_extension": ".py"
    }
  }
}